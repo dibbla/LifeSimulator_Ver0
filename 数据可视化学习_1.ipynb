{
  "nbformat": 4,
  "nbformat_minor": 0,
  "metadata": {
    "colab": {
      "name": "数据可视化学习_1.ipynb",
      "provenance": [],
      "collapsed_sections": [],
      "authorship_tag": "ABX9TyMrcbxvwX2HfZ5ddeSYfgUA",
      "include_colab_link": true
    },
    "kernelspec": {
      "name": "python3",
      "display_name": "Python 3"
    }
  },
  "cells": [
    {
      "cell_type": "markdown",
      "metadata": {
        "id": "view-in-github",
        "colab_type": "text"
      },
      "source": [
        "<a href=\"https://colab.research.google.com/github/dibbla/LifeSimulator_Ver0/blob/main/%E6%95%B0%E6%8D%AE%E5%8F%AF%E8%A7%86%E5%8C%96%E5%AD%A6%E4%B9%A0_1.ipynb\" target=\"_parent\"><img src=\"https://colab.research.google.com/assets/colab-badge.svg\" alt=\"Open In Colab\"/></a>"
      ]
    },
    {
      "cell_type": "code",
      "metadata": {
        "id": "MUeDvPEF3bET"
      },
      "source": [
        "import numpy as np \n",
        "from matplotlib import pyplot as plt \n",
        " \n",
        "x = np.arange(1,11) \n",
        "y =  2  * x +  5 \n",
        "plt.title(\"Matplotlib demo\") \n",
        "plt.xlabel(\"x axis caption\") \n",
        "plt.ylabel(\"y axis caption\") \n",
        "plt.plot(x,y,color=\"red\",linewidth=100,linestyle=\"solid\") \n",
        "plt.show()"
      ],
      "execution_count": null,
      "outputs": []
    },
    {
      "cell_type": "code",
      "metadata": {
        "id": "wnvkAxUl7yCI",
        "colab": {
          "base_uri": "https://localhost:8080/",
          "height": 295
        },
        "outputId": "db69d718-4027-46d5-cac6-13e039f703fa"
      },
      "source": [
        "import numpy as np \n",
        "from matplotlib import pyplot as plt \n",
        " \n",
        "x = np.arange(1,11) \n",
        "y =  2  * x +  5 \n",
        "plt.title(\"Matplotlib demo\") \n",
        "plt.xlabel(\"x axis caption\") \n",
        "plt.ylabel(\"y axis caption\") \n",
        "plt.plot(x,y,\"_\") \n",
        "plt.show()"
      ],
      "execution_count": null,
      "outputs": [
        {
          "output_type": "display_data",
          "data": {
            "image/png": "[encoded data removed]",
            "text/plain": [
              "<Figure size 432x288 with 1 Axes>"
            ]
          },
          "metadata": {
            "tags": [],
            "needs_background": "light"
          }
        }
      ]
    },
    {
      "cell_type": "code",
      "metadata": {
        "id": "0289nIh378t_"
      },
      "source": [
        "import numpy as np \n",
        "import matplotlib.pyplot as plt \n",
        "# 计算正弦曲线上点的 x 和 y 坐标\n",
        "x = np.arange(0,  3  * np.pi,  0.1) \n",
        "y = np.sin(x)\n",
        "plt.title(\"sine wave form\")  \n",
        "# 使用 matplotlib 来绘制点\n",
        "plt.plot(x, y,'ob') \n",
        "plt.show()"
      ],
      "execution_count": null,
      "outputs": []
    },
    {
      "cell_type": "code",
      "metadata": {
        "id": "fmkZaW188TqV",
        "colab": {
          "base_uri": "https://localhost:8080/",
          "height": 295
        },
        "outputId": "47105429-002f-454a-b7e2-1ca60db4be11"
      },
      "source": [
        "from matplotlib import pyplot as plt \n",
        "x =  [6,8,10] \n",
        "y =  [12,16,6] \n",
        "x2 =  [6,9,11] \n",
        "y2 =  [6,15,7] \n",
        "plt.bar(x, y, align =  'center') \n",
        "plt.bar(x2, y2, color =  'g', align =  'center') \n",
        "plt.title('Bar graph') \n",
        "plt.ylabel('Y axis') \n",
        "plt.xlabel('X axis') \n",
        "plt.show()"
      ],
      "execution_count": null,
      "outputs": [
        {
          "output_type": "display_data",
          "data": {
            "image/png": "[encoded data removed]",
            "text/plain": [
              "<Figure size 432x288 with 1 Axes>"
            ]
          },
          "metadata": {
            "tags": [],
            "needs_background": "light"
          }
        }
      ]
    }
  ]
}